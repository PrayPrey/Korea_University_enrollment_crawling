{
 "cells": [
  {
   "cell_type": "code",
   "execution_count": null,
   "metadata": {},
   "outputs": [],
   "source": [
    "\n"
   ]
  },
  {
   "cell_type": "code",
   "execution_count": 2,
   "metadata": {},
   "outputs": [],
   "source": [
    "import pandas as pd\n",
    "\n",
    "text = pd.read_csv('data_3.csv')\n",
    "\n",
    "text.place2.fillna('미정',inplace = True)\n",
    "text.place1.fillna('미정',inplace = True)"
   ]
  },
  {
   "cell_type": "code",
   "execution_count": 3,
   "metadata": {},
   "outputs": [],
   "source": [
    "place1_coordinate = pd.Series(text.place1.unique())"
   ]
  },
  {
   "cell_type": "code",
   "execution_count": 4,
   "metadata": {
    "scrolled": true
   },
   "outputs": [],
   "source": [
    "place2_coordinate  = pd.Series(text.place2.unique())"
   ]
  },
  {
   "cell_type": "code",
   "execution_count": 5,
   "metadata": {},
   "outputs": [
    {
     "data": {
      "text/plain": [
       "0         우정간호학관\n",
       "1            교양관\n",
       "2           신공학관\n",
       "3          법학관신관\n",
       "4          아산이학관\n",
       "5        운초우선교육관\n",
       "6            국제관\n",
       "7             미정\n",
       "8          RnD센터\n",
       "9          로봇융합관\n",
       "10         우정정보관\n",
       "11        애기능생활관\n",
       "12           정경관\n",
       "13         하나과학관\n",
       "14    본교대강당한국일보홀\n",
       "15            의대\n",
       "16         법학관구관\n",
       "17       생명과학관서관\n",
       "18            서관\n",
       "19          미디어관\n",
       "20     본교대강당김양현홀\n",
       "21         미래융합관\n",
       "22         과학도서관\n",
       "23      LG포스코경영관\n",
       "24       생명과학관동관\n",
       "25           공학관\n",
       "26           창의관\n",
       "27         이학관별관\n",
       "28           이학관\n",
       "29        사범대학신관\n",
       "30         CJ법학관\n",
       "31        의과대학본관\n",
       "32        사범대학본관\n",
       "33         법학도서관\n",
       "34      현대자동차경영관\n",
       "35      본교대강당아주홀\n",
       "dtype: object"
      ]
     },
     "execution_count": 5,
     "metadata": {},
     "output_type": "execute_result"
    }
   ],
   "source": [
    "place1_coordinate\n"
   ]
  },
  {
   "cell_type": "code",
   "execution_count": 6,
   "metadata": {},
   "outputs": [
    {
     "data": {
      "text/plain": [
       "0             미정\n",
       "1            교양관\n",
       "2           신공학관\n",
       "3          법학관신관\n",
       "4          아산이학관\n",
       "5        운초우선교육관\n",
       "6            국제관\n",
       "7          우정정보관\n",
       "8         애기능생활관\n",
       "9            정경관\n",
       "10         하나과학관\n",
       "11    본교대강당한국일보홀\n",
       "12         법학관구관\n",
       "13        우정간호학관\n",
       "14            서관\n",
       "15          미디어관\n",
       "16     본교대강당김양현홀\n",
       "17         미래융합관\n",
       "18         과학도서관\n",
       "19      LG포스코경영관\n",
       "20            의대\n",
       "21       생명과학관동관\n",
       "22       생명과학관서관\n",
       "23         로봇융합관\n",
       "24           이학관\n",
       "25        사범대학신관\n",
       "26        사범대학본관\n",
       "27         CJ법학관\n",
       "28         법학도서관\n",
       "29           창의관\n",
       "30           공학관\n",
       "31      현대자동차경영관\n",
       "32      본교대강당아주홀\n",
       "dtype: object"
      ]
     },
     "execution_count": 6,
     "metadata": {},
     "output_type": "execute_result"
    }
   ],
   "source": [
    "place2_coordinate.fillna('미정',inplace = True)\n",
    "place2_coordinate"
   ]
  },
  {
   "cell_type": "code",
   "execution_count": 9,
   "metadata": {},
   "outputs": [
    {
     "name": "stdout",
     "output_type": "stream",
     "text": [
      "['고려대학교 우정간호학관', '고려대학교 교양관', '고려대학교 신공학관', '고려대학교 법학관신관', '고려대학교 아산이학관', '고려대학교 운초우선교육관', '고려대학교 국제관', '고려대학교 RnD센터', '고려대학교 로봇융합관', '고려대학교 우정정보관', '고려대학교 애기능생활관', '고려대학교 정경관', '고려대학교 하나과학관', '고려대학교 본교대강당한국일보홀', '고려대학교 의대', '고려대학교 법학관구관', '고려대학교 생명과학관서관', '고려대학교 서관', '고려대학교 미디어관', '고려대학교 본교대강당김양현홀', '고려대학교 미래융합관', '고려대학교 과학도서관', '고려대학교 LG포스코경영관', '고려대학교 생명과학관동관', '고려대학교 공학관', '고려대학교 창의관', '고려대학교 이학관별관', '고려대학교 이학관', '고려대학교 사범대학신관', '고려대학교 CJ법학관', '고려대학교 의과대학본관', '고려대학교 사범대학본관', '고려대학교 법학도서관', '고려대학교 현대자동차경영관', '고려대학교 본교대강당아주홀', '고려대학교 교양관', '고려대학교 신공학관', '고려대학교 법학관신관', '고려대학교 아산이학관', '고려대학교 운초우선교육관', '고려대학교 국제관', '고려대학교 우정정보관', '고려대학교 애기능생활관', '고려대학교 정경관', '고려대학교 하나과학관', '고려대학교 본교대강당한국일보홀', '고려대학교 법학관구관', '고려대학교 우정간호학관', '고려대학교 서관', '고려대학교 미디어관', '고려대학교 본교대강당김양현홀', '고려대학교 미래융합관', '고려대학교 과학도서관', '고려대학교 LG포스코경영관', '고려대학교 의대', '고려대학교 생명과학관동관', '고려대학교 생명과학관서관', '고려대학교 로봇융합관', '고려대학교 이학관', '고려대학교 사범대학신관', '고려대학교 사범대학본관', '고려대학교 CJ법학관', '고려대학교 법학도서관', '고려대학교 창의관', '고려대학교 공학관', '고려대학교 현대자동차경영관', '고려대학교 본교대강당아주홀']\n"
     ]
    },
    {
     "data": {
      "text/plain": [
       "['미정',\n",
       " '고려대학교 우정간호학관',\n",
       " '고려대학교 교양관',\n",
       " '고려대학교 신공학관',\n",
       " '고려대학교 법학관신관',\n",
       " '고려대학교 아산이학관',\n",
       " '고려대학교 운초우선교육관',\n",
       " '고려대학교 국제관',\n",
       " '고려대학교 RnD센터',\n",
       " '고려대학교 로봇융합관',\n",
       " '고려대학교 우정정보관',\n",
       " '고려대학교 애기능생활관',\n",
       " '고려대학교 정경관',\n",
       " '고려대학교 하나과학관',\n",
       " '고려대학교 본교대강당한국일보홀',\n",
       " '고려대학교 의대',\n",
       " '고려대학교 법학관구관',\n",
       " '고려대학교 생명과학관서관',\n",
       " '고려대학교 서관',\n",
       " '고려대학교 미디어관',\n",
       " '고려대학교 본교대강당김양현홀',\n",
       " '고려대학교 미래융합관',\n",
       " '고려대학교 과학도서관',\n",
       " '고려대학교 LG포스코경영관',\n",
       " '고려대학교 생명과학관동관',\n",
       " '고려대학교 공학관',\n",
       " '고려대학교 창의관',\n",
       " '고려대학교 이학관별관',\n",
       " '고려대학교 이학관',\n",
       " '고려대학교 사범대학신관',\n",
       " '고려대학교 CJ법학관',\n",
       " '고려대학교 의과대학본관',\n",
       " '고려대학교 사범대학본관',\n",
       " '고려대학교 법학도서관',\n",
       " '고려대학교 현대자동차경영관',\n",
       " '고려대학교 본교대강당아주홀',\n",
       " '고려대학교 교양관',\n",
       " '고려대학교 신공학관',\n",
       " '고려대학교 법학관신관',\n",
       " '고려대학교 아산이학관',\n",
       " '고려대학교 운초우선교육관',\n",
       " '고려대학교 국제관',\n",
       " '고려대학교 우정정보관',\n",
       " '고려대학교 애기능생활관',\n",
       " '고려대학교 정경관',\n",
       " '고려대학교 하나과학관',\n",
       " '고려대학교 본교대강당한국일보홀',\n",
       " '고려대학교 법학관구관',\n",
       " '고려대학교 우정간호학관',\n",
       " '고려대학교 서관',\n",
       " '고려대학교 미디어관',\n",
       " '고려대학교 본교대강당김양현홀',\n",
       " '고려대학교 미래융합관',\n",
       " '고려대학교 과학도서관',\n",
       " '고려대학교 LG포스코경영관',\n",
       " '고려대학교 의대',\n",
       " '고려대학교 생명과학관동관',\n",
       " '고려대학교 생명과학관서관',\n",
       " '고려대학교 로봇융합관',\n",
       " '고려대학교 이학관',\n",
       " '고려대학교 사범대학신관',\n",
       " '고려대학교 사범대학본관',\n",
       " '고려대학교 CJ법학관',\n",
       " '고려대학교 법학도서관',\n",
       " '고려대학교 창의관',\n",
       " '고려대학교 공학관',\n",
       " '고려대학교 현대자동차경영관',\n",
       " '고려대학교 본교대강당아주홀']"
      ]
     },
     "execution_count": 9,
     "metadata": {},
     "output_type": "execute_result"
    }
   ],
   "source": [
    "import requests\n",
    "import json\n",
    "\n",
    "str_left = []\n",
    "\n",
    "def getLatLng(addr):\n",
    "    \n",
    "    if addr == '고려대학교 미정':\n",
    "        return '미정'\n",
    "    \n",
    "    url = 'https://dapi.kakao.com/v2/local/search/keyword.json?query='+addr\n",
    "    headers = {\"Authorization\": 'YOUR ID'}\n",
    "    result = json.loads(str(requests.get(url,headers=headers).text))\n",
    "    \n",
    "    \n",
    "    try:\n",
    "        return result['documents'][0]['address_name']\n",
    "    except:\n",
    "        str_left.append(addr)\n",
    "    \n",
    "for i in place1_coordinate.tolist():\n",
    "    \n",
    "    getLatLng(str('고려대학교 ') + i)\n",
    "    \n",
    "for i in place2_coordinate.tolist():\n",
    "    \n",
    "    getLatLng(str('고려대학교 ') + i)\n",
    "print(str_left)\n",
    "str_left.insert(0,'미정')\n",
    "str_left"
   ]
  },
  {
   "cell_type": "code",
   "execution_count": 7,
   "metadata": {},
   "outputs": [
    {
     "data": {
      "text/plain": [
       "['미정',\n",
       " '고려대학교 RnD센터',\n",
       " '고려대학교 본교대강당한국일보홀',\n",
       " '고려대학교 본교대강당김양현홀',\n",
       " '고려대학교 미래융합관',\n",
       " '고려대학교 본교대강당아주홀',\n",
       " '고려대학교 본교대강당한국일보홀',\n",
       " '고려대학교 본교대강당김양현홀',\n",
       " '고려대학교 미래융합관',\n",
       " '고려대학교 본교대강당아주홀']"
      ]
     },
     "execution_count": 7,
     "metadata": {},
     "output_type": "execute_result"
    }
   ],
   "source": [
    "str_left"
   ]
  },
  {
   "cell_type": "code",
   "execution_count": 8,
   "metadata": {},
   "outputs": [],
   "source": [
    "str_replace = ['미정','고려대학교 R&D센터', '고려대학교 강당', '고려대학교 강당', \n",
    "               '고려대학교 미래융합기술관', '고려대학교 강당']"
   ]
  },
  {
   "cell_type": "code",
   "execution_count": 9,
   "metadata": {},
   "outputs": [
    {
     "name": "stdout",
     "output_type": "stream",
     "text": [
      "미정 미정\n",
      "RnD센터 R&D센터\n",
      "본교대강당한국일보홀 강당\n",
      "본교대강당김양현홀 강당\n",
      "미래융합관 미래융합기술관\n",
      "본교대강당아주홀 강당\n"
     ]
    }
   ],
   "source": [
    "for (i,j) in zip(str_left,str_replace):\n",
    "    print(i.strip('고려대학교 '),j.strip('고려대학교 '))\n",
    "    text.place1.replace(i.strip('고려대학교 '),j.strip('고려대학교 '),inplace=True)\n",
    "    text.place2.replace(i.strip('고려대학교 '),j.strip('고려대학교 '),inplace=True) "
   ]
  },
  {
   "cell_type": "code",
   "execution_count": 10,
   "metadata": {},
   "outputs": [
    {
     "data": {
      "text/plain": [
       "array(['우정간호학관', '교양관', '신공학관', '법학관신관', '아산이학관', '운초우선교육관', '국제관', '미정',\n",
       "       'R&D센터', '로봇융합관', '우정정보관', '애기능생활관', '정경관', '하나과학관', '강당', '의대',\n",
       "       '법학관구관', '생명과학관서관', '서관', '미디어관', '미래융합기술관', '과학도서관', 'LG포스코경영관',\n",
       "       '생명과학관동관', '공학관', '창의관', '이학관별관', '이학관', '사범대학신관', 'CJ법학관',\n",
       "       '의과대학본관', '사범대학본관', '법학도서관', '현대자동차경영관'], dtype=object)"
      ]
     },
     "execution_count": 10,
     "metadata": {},
     "output_type": "execute_result"
    }
   ],
   "source": [
    "text.place1.unique()"
   ]
  },
  {
   "cell_type": "code",
   "execution_count": 11,
   "metadata": {},
   "outputs": [
    {
     "data": {
      "text/plain": [
       "array(['미정', '교양관', '신공학관', '법학관신관', '아산이학관', '운초우선교육관', '국제관', '우정정보관',\n",
       "       '애기능생활관', '정경관', '하나과학관', '강당', '법학관구관', '우정간호학관', '서관', '미디어관',\n",
       "       '미래융합기술관', '과학도서관', 'LG포스코경영관', '의대', '생명과학관동관', '생명과학관서관',\n",
       "       '로봇융합관', '이학관', '사범대학신관', '사범대학본관', 'CJ법학관', '법학도서관', '창의관', '공학관',\n",
       "       '현대자동차경영관'], dtype=object)"
      ]
     },
     "execution_count": 11,
     "metadata": {},
     "output_type": "execute_result"
    }
   ],
   "source": [
    "text.place2.unique()"
   ]
  },
  {
   "cell_type": "code",
   "execution_count": 12,
   "metadata": {
    "scrolled": false
   },
   "outputs": [
    {
     "name": "stdout",
     "output_type": "stream",
     "text": [
      "서울 성북구 안암동5가 126-28\n",
      "서울 성북구 안암동5가 1-2\n",
      "서울 성북구 안암동5가 126-16\n",
      "서울 성북구 종암동 29-26\n",
      "서울 성북구 안암동5가 126-16\n",
      "서울 성북구 종암동 29-26\n",
      "서울 성북구 안암동5가 1-2\n",
      "미정\n",
      "서울 성북구 동선동4가 81-2\n",
      "서울 성북구 안암동5가 126-16\n",
      "서울 성북구 안암동5가 126-16\n",
      "서울 성북구 안암동5가 126-16\n",
      "서울 성북구 안암동5가 1-2\n",
      "서울 성북구 안암동5가 126-16\n",
      "서울 성북구 안암동5가 1-2\n",
      "서울 성북구 안암동5가 126-28\n",
      "서울 성북구 종암동 29-26\n",
      "서울 성북구 안암동5가 126-16\n",
      "서울 성북구 안암동5가 1-2\n",
      "서울 성북구 안암동5가 1-2\n",
      "서울 성북구 안암동5가 126-16\n",
      "서울 성북구 안암동5가 126-16\n",
      "서울 성북구 종암동 29-26\n",
      "서울 성북구 안암동5가 126-16\n",
      "서울 성북구 안암동5가 126-16\n",
      "서울 성북구 안암동5가 126-16\n",
      "서울 성북구 안암동5가 126-16\n",
      "서울 성북구 안암동5가 126-16\n",
      "서울 성북구 종암동 29-26\n",
      "서울 성북구 종암동 29-26\n",
      "서울 성북구 안암동5가 126-28\n",
      "서울 성북구 종암동 29-26\n",
      "서울 성북구 안암동5가 1-2\n",
      "서울 성북구 종암동 29-26\n"
     ]
    }
   ],
   "source": [
    "dict_building = {}\n",
    "for i in text.place1.unique():    \n",
    "    print(getLatLng(str('고려대학교 ') + i))\n",
    "    dict_building[i] =getLatLng(str('고려대학교 ') + i)"
   ]
  },
  {
   "cell_type": "code",
   "execution_count": 13,
   "metadata": {},
   "outputs": [],
   "source": [
    "append_list_1, append_list_2 = [],[]\n",
    "for i,j in zip(text.place1, text.place2):\n",
    "    append_list_1.append(dict_building[i])\n",
    "    append_list_2.append(dict_building[j])"
   ]
  },
  {
   "cell_type": "code",
   "execution_count": 14,
   "metadata": {},
   "outputs": [],
   "source": [
    "text['place1_지번'] = append_list_1 \n",
    "text['place2_지번'] = append_list_2"
   ]
  },
  {
   "cell_type": "code",
   "execution_count": 16,
   "metadata": {},
   "outputs": [
    {
     "data": {
      "text/plain": [
       "0       미정\n",
       "1       미정\n",
       "2       미정\n",
       "3       미정\n",
       "4       미정\n",
       "        ..\n",
       "3340    미정\n",
       "3341    미정\n",
       "3342    미정\n",
       "3343    미정\n",
       "3344    미정\n",
       "Name: place2_지번, Length: 3345, dtype: object"
      ]
     },
     "execution_count": 16,
     "metadata": {},
     "output_type": "execute_result"
    }
   ],
   "source": [
    "text.place1_지번.replace('서울 성북구 동선동4가 81-2','서울 성북구 안암동5가 126-28')\n",
    "text.place2_지번.replace('서울 성북구 동선동4가 81-2','서울 성북구 안암동5가 126-28')"
   ]
  },
  {
   "cell_type": "code",
   "execution_count": 17,
   "metadata": {},
   "outputs": [
    {
     "data": {
      "text/html": [
       "<div>\n",
       "<style scoped>\n",
       "    .dataframe tbody tr th:only-of-type {\n",
       "        vertical-align: middle;\n",
       "    }\n",
       "\n",
       "    .dataframe tbody tr th {\n",
       "        vertical-align: top;\n",
       "    }\n",
       "\n",
       "    .dataframe thead th {\n",
       "        text-align: right;\n",
       "    }\n",
       "</style>\n",
       "<table border=\"1\" class=\"dataframe\">\n",
       "  <thead>\n",
       "    <tr style=\"text-align: right;\">\n",
       "      <th></th>\n",
       "      <th>Unnamed: 0</th>\n",
       "      <th>entire</th>\n",
       "      <th>campus</th>\n",
       "      <th>number</th>\n",
       "      <th>class_</th>\n",
       "      <th>seperate</th>\n",
       "      <th>major</th>\n",
       "      <th>class_name</th>\n",
       "      <th>prof</th>\n",
       "      <th>time</th>\n",
       "      <th>place</th>\n",
       "      <th>day1</th>\n",
       "      <th>day2</th>\n",
       "      <th>place1</th>\n",
       "      <th>place2</th>\n",
       "      <th>place1_지번</th>\n",
       "      <th>place2_지번</th>\n",
       "    </tr>\n",
       "  </thead>\n",
       "  <tbody>\n",
       "    <tr>\n",
       "      <td>0</td>\n",
       "      <td>0</td>\n",
       "      <td>간호대학</td>\n",
       "      <td>서울</td>\n",
       "      <td>NRSG217</td>\n",
       "      <td>0</td>\n",
       "      <td>전공필수</td>\n",
       "      <td>간호학과</td>\n",
       "      <td>간호학개론</td>\n",
       "      <td>송준아</td>\n",
       "      <td>1(1)</td>\n",
       "      <td>화(3) 우정간호학관 401호</td>\n",
       "      <td>화(3)</td>\n",
       "      <td>NaN</td>\n",
       "      <td>우정간호학관</td>\n",
       "      <td>미정</td>\n",
       "      <td>서울 성북구 안암동5가 126-28</td>\n",
       "      <td>미정</td>\n",
       "    </tr>\n",
       "    <tr>\n",
       "      <td>1</td>\n",
       "      <td>1</td>\n",
       "      <td>간호대학</td>\n",
       "      <td>서울</td>\n",
       "      <td>NRSG220</td>\n",
       "      <td>0</td>\n",
       "      <td>전공선택</td>\n",
       "      <td>간호학과</td>\n",
       "      <td>건강과식이(영강) 화 10:00~11:50</td>\n",
       "      <td>김경해</td>\n",
       "      <td>2(2)</td>\n",
       "      <td>화(1-2) 우정간호학관 101호</td>\n",
       "      <td>화(1-2)</td>\n",
       "      <td>NaN</td>\n",
       "      <td>우정간호학관</td>\n",
       "      <td>미정</td>\n",
       "      <td>서울 성북구 안암동5가 126-28</td>\n",
       "      <td>미정</td>\n",
       "    </tr>\n",
       "    <tr>\n",
       "      <td>2</td>\n",
       "      <td>2</td>\n",
       "      <td>간호대학</td>\n",
       "      <td>서울</td>\n",
       "      <td>NRSG233</td>\n",
       "      <td>0</td>\n",
       "      <td>전공선택</td>\n",
       "      <td>간호학과</td>\n",
       "      <td>간호정보학및실습 금 09:00 ~ 10:50</td>\n",
       "      <td>이정민</td>\n",
       "      <td>2(2)</td>\n",
       "      <td>금(1-2) 우정간호학관 101호</td>\n",
       "      <td>금(1-2)</td>\n",
       "      <td>NaN</td>\n",
       "      <td>우정간호학관</td>\n",
       "      <td>미정</td>\n",
       "      <td>서울 성북구 안암동5가 126-28</td>\n",
       "      <td>미정</td>\n",
       "    </tr>\n",
       "    <tr>\n",
       "      <td>3</td>\n",
       "      <td>3</td>\n",
       "      <td>간호대학</td>\n",
       "      <td>서울</td>\n",
       "      <td>NRSG241</td>\n",
       "      <td>0</td>\n",
       "      <td>전공선택</td>\n",
       "      <td>간호학과</td>\n",
       "      <td>기초간호과학II 수 09:00~10:50</td>\n",
       "      <td>설근희</td>\n",
       "      <td>2(2)</td>\n",
       "      <td>수(1-2) 우정간호학관 101호</td>\n",
       "      <td>수(1-2)</td>\n",
       "      <td>NaN</td>\n",
       "      <td>우정간호학관</td>\n",
       "      <td>미정</td>\n",
       "      <td>서울 성북구 안암동5가 126-28</td>\n",
       "      <td>미정</td>\n",
       "    </tr>\n",
       "    <tr>\n",
       "      <td>4</td>\n",
       "      <td>4</td>\n",
       "      <td>간호대학</td>\n",
       "      <td>서울</td>\n",
       "      <td>NRSG243</td>\n",
       "      <td>0</td>\n",
       "      <td>전공선택</td>\n",
       "      <td>간호학과</td>\n",
       "      <td>기초간호과학III</td>\n",
       "      <td>설근희</td>\n",
       "      <td>3(3)</td>\n",
       "      <td>화(5-6) 우정간호학관 101호</td>\n",
       "      <td>화(5-6)</td>\n",
       "      <td>NaN</td>\n",
       "      <td>우정간호학관</td>\n",
       "      <td>미정</td>\n",
       "      <td>서울 성북구 안암동5가 126-28</td>\n",
       "      <td>미정</td>\n",
       "    </tr>\n",
       "    <tr>\n",
       "      <td>...</td>\n",
       "      <td>...</td>\n",
       "      <td>...</td>\n",
       "      <td>...</td>\n",
       "      <td>...</td>\n",
       "      <td>...</td>\n",
       "      <td>...</td>\n",
       "      <td>...</td>\n",
       "      <td>...</td>\n",
       "      <td>...</td>\n",
       "      <td>...</td>\n",
       "      <td>...</td>\n",
       "      <td>...</td>\n",
       "      <td>...</td>\n",
       "      <td>...</td>\n",
       "      <td>...</td>\n",
       "      <td>...</td>\n",
       "      <td>...</td>\n",
       "    </tr>\n",
       "    <tr>\n",
       "      <td>3340</td>\n",
       "      <td>3340</td>\n",
       "      <td>교직</td>\n",
       "      <td>서울</td>\n",
       "      <td>SEDU408</td>\n",
       "      <td>3</td>\n",
       "      <td>교직</td>\n",
       "      <td>교직팀</td>\n",
       "      <td>학교현장실습</td>\n",
       "      <td>박인우</td>\n",
       "      <td>2(2)</td>\n",
       "      <td>토(2) 사대본관 113호</td>\n",
       "      <td>토(2)</td>\n",
       "      <td>NaN</td>\n",
       "      <td>사범대학본관</td>\n",
       "      <td>미정</td>\n",
       "      <td>서울 성북구 종암동 29-26</td>\n",
       "      <td>미정</td>\n",
       "    </tr>\n",
       "    <tr>\n",
       "      <td>3341</td>\n",
       "      <td>3341</td>\n",
       "      <td>교직</td>\n",
       "      <td>서울</td>\n",
       "      <td>SEDU408</td>\n",
       "      <td>4</td>\n",
       "      <td>교직</td>\n",
       "      <td>교직팀</td>\n",
       "      <td>학교현장실습</td>\n",
       "      <td>이보라</td>\n",
       "      <td>2(2)</td>\n",
       "      <td>토(2) 교육관 502호</td>\n",
       "      <td>토(2)</td>\n",
       "      <td>NaN</td>\n",
       "      <td>운초우선교육관</td>\n",
       "      <td>미정</td>\n",
       "      <td>서울 성북구 종암동 29-26</td>\n",
       "      <td>미정</td>\n",
       "    </tr>\n",
       "    <tr>\n",
       "      <td>3342</td>\n",
       "      <td>3342</td>\n",
       "      <td>군사학</td>\n",
       "      <td>서울</td>\n",
       "      <td>GEMS201</td>\n",
       "      <td>0</td>\n",
       "      <td>군사학</td>\n",
       "      <td>학생군사교육단</td>\n",
       "      <td>안보학 화,목(07:00~09:00)/ 학생군사교육단305호</td>\n",
       "      <td>김홍건</td>\n",
       "      <td>2(4)</td>\n",
       "      <td>미정</td>\n",
       "      <td>미정</td>\n",
       "      <td>NaN</td>\n",
       "      <td>미정</td>\n",
       "      <td>미정</td>\n",
       "      <td>미정</td>\n",
       "      <td>미정</td>\n",
       "    </tr>\n",
       "    <tr>\n",
       "      <td>3343</td>\n",
       "      <td>3343</td>\n",
       "      <td>군사학</td>\n",
       "      <td>서울</td>\n",
       "      <td>GEMS203</td>\n",
       "      <td>0</td>\n",
       "      <td>군사학</td>\n",
       "      <td>학생군사교육단</td>\n",
       "      <td>조직리더십 화,목(07:00~09:00)/ 학생군사교육단205호</td>\n",
       "      <td>정선호</td>\n",
       "      <td>2(4)</td>\n",
       "      <td>미정</td>\n",
       "      <td>미정</td>\n",
       "      <td>NaN</td>\n",
       "      <td>미정</td>\n",
       "      <td>미정</td>\n",
       "      <td>미정</td>\n",
       "      <td>미정</td>\n",
       "    </tr>\n",
       "    <tr>\n",
       "      <td>3344</td>\n",
       "      <td>3344</td>\n",
       "      <td>평생교육사</td>\n",
       "      <td>서울</td>\n",
       "      <td>EDUC399</td>\n",
       "      <td>0</td>\n",
       "      <td>평생교육사</td>\n",
       "      <td>교육학과</td>\n",
       "      <td>평생교육실습(영강)</td>\n",
       "      <td>송진휘</td>\n",
       "      <td>3(3)</td>\n",
       "      <td>금(2-4) 교육관 308호</td>\n",
       "      <td>금(2-4)</td>\n",
       "      <td>NaN</td>\n",
       "      <td>운초우선교육관</td>\n",
       "      <td>미정</td>\n",
       "      <td>서울 성북구 종암동 29-26</td>\n",
       "      <td>미정</td>\n",
       "    </tr>\n",
       "  </tbody>\n",
       "</table>\n",
       "<p>3345 rows × 17 columns</p>\n",
       "</div>"
      ],
      "text/plain": [
       "      Unnamed: 0 entire campus   number class_ seperate    major  \\\n",
       "0              0   간호대학     서울  NRSG217      0     전공필수     간호학과   \n",
       "1              1   간호대학     서울  NRSG220      0     전공선택     간호학과   \n",
       "2              2   간호대학     서울  NRSG233      0     전공선택     간호학과   \n",
       "3              3   간호대학     서울  NRSG241      0     전공선택     간호학과   \n",
       "4              4   간호대학     서울  NRSG243      0     전공선택     간호학과   \n",
       "...          ...    ...    ...      ...    ...      ...      ...   \n",
       "3340        3340     교직     서울  SEDU408      3       교직      교직팀   \n",
       "3341        3341     교직     서울  SEDU408      4       교직      교직팀   \n",
       "3342        3342    군사학     서울  GEMS201      0      군사학  학생군사교육단   \n",
       "3343        3343    군사학     서울  GEMS203      0      군사학  학생군사교육단   \n",
       "3344        3344  평생교육사     서울  EDUC399      0    평생교육사     교육학과   \n",
       "\n",
       "                               class_name prof  time               place  \\\n",
       "0                                   간호학개론  송준아  1(1)    화(3) 우정간호학관 401호   \n",
       "1                 건강과식이(영강) 화 10:00~11:50  김경해  2(2)  화(1-2) 우정간호학관 101호   \n",
       "2                간호정보학및실습 금 09:00 ~ 10:50  이정민  2(2)  금(1-2) 우정간호학관 101호   \n",
       "3                  기초간호과학II 수 09:00~10:50  설근희  2(2)  수(1-2) 우정간호학관 101호   \n",
       "4                               기초간호과학III  설근희  3(3)  화(5-6) 우정간호학관 101호   \n",
       "...                                   ...  ...   ...                 ...   \n",
       "3340                               학교현장실습  박인우  2(2)      토(2) 사대본관 113호   \n",
       "3341                               학교현장실습  이보라  2(2)       토(2) 교육관 502호   \n",
       "3342    안보학 화,목(07:00~09:00)/ 학생군사교육단305호  김홍건  2(4)                  미정   \n",
       "3343  조직리더십 화,목(07:00~09:00)/ 학생군사교육단205호  정선호  2(4)                  미정   \n",
       "3344                           평생교육실습(영강)  송진휘  3(3)     금(2-4) 교육관 308호   \n",
       "\n",
       "        day1 day2   place1 place2            place1_지번 place2_지번  \n",
       "0       화(3)  NaN   우정간호학관     미정  서울 성북구 안암동5가 126-28        미정  \n",
       "1     화(1-2)  NaN   우정간호학관     미정  서울 성북구 안암동5가 126-28        미정  \n",
       "2     금(1-2)  NaN   우정간호학관     미정  서울 성북구 안암동5가 126-28        미정  \n",
       "3     수(1-2)  NaN   우정간호학관     미정  서울 성북구 안암동5가 126-28        미정  \n",
       "4     화(5-6)  NaN   우정간호학관     미정  서울 성북구 안암동5가 126-28        미정  \n",
       "...      ...  ...      ...    ...                  ...       ...  \n",
       "3340    토(2)  NaN   사범대학본관     미정     서울 성북구 종암동 29-26        미정  \n",
       "3341    토(2)  NaN  운초우선교육관     미정     서울 성북구 종암동 29-26        미정  \n",
       "3342      미정  NaN       미정     미정                   미정        미정  \n",
       "3343      미정  NaN       미정     미정                   미정        미정  \n",
       "3344  금(2-4)  NaN  운초우선교육관     미정     서울 성북구 종암동 29-26        미정  \n",
       "\n",
       "[3345 rows x 17 columns]"
      ]
     },
     "execution_count": 17,
     "metadata": {},
     "output_type": "execute_result"
    }
   ],
   "source": [
    "text"
   ]
  },
  {
   "cell_type": "code",
   "execution_count": 18,
   "metadata": {},
   "outputs": [],
   "source": [
    "text.to_csv('정시설_지번추가.csv')"
   ]
  },
  {
   "cell_type": "code",
   "execution_count": 10,
   "metadata": {},
   "outputs": [
    {
     "data": {
      "text/plain": [
       "{'errorType': 'AccessDeniedError',\n",
       " 'message': 'ip mismatched! callerIp=222.233.187.211. check out registered ips.'}"
      ]
     },
     "execution_count": 10,
     "metadata": {},
     "output_type": "execute_result"
    }
   ],
   "source": []
  }
 ],
 "metadata": {
  "kernelspec": {
   "display_name": "Python 3",
   "language": "python",
   "name": "python3"
  },
  "language_info": {
   "codemirror_mode": {
    "name": "ipython",
    "version": 3
   },
   "file_extension": ".py",
   "mimetype": "text/x-python",
   "name": "python",
   "nbconvert_exporter": "python",
   "pygments_lexer": "ipython3",
   "version": "3.7.4"
  },
  "toc": {
   "base_numbering": 1,
   "nav_menu": {},
   "number_sections": true,
   "sideBar": true,
   "skip_h1_title": false,
   "title_cell": "Table of Contents",
   "title_sidebar": "Contents",
   "toc_cell": false,
   "toc_position": {},
   "toc_section_display": true,
   "toc_window_display": false
  },
  "varInspector": {
   "cols": {
    "lenName": 16,
    "lenType": 16,
    "lenVar": 40
   },
   "kernels_config": {
    "python": {
     "delete_cmd_postfix": "",
     "delete_cmd_prefix": "del ",
     "library": "var_list.py",
     "varRefreshCmd": "print(var_dic_list())"
    },
    "r": {
     "delete_cmd_postfix": ") ",
     "delete_cmd_prefix": "rm(",
     "library": "var_list.r",
     "varRefreshCmd": "cat(var_dic_list()) "
    }
   },
   "types_to_exclude": [
    "module",
    "function",
    "builtin_function_or_method",
    "instance",
    "_Feature"
   ],
   "window_display": false
  }
 },
 "nbformat": 4,
 "nbformat_minor": 2
}
